{
  "nbformat": 4,
  "nbformat_minor": 0,
  "metadata": {
    "colab": {
      "name": "regioesdecomplexos.ipynb",
      "provenance": [],
      "collapsed_sections": [],
      "authorship_tag": "ABX9TyMrpiXiFLHWnG5MyR+49E4d",
      "include_colab_link": true
    },
    "kernelspec": {
      "name": "python3",
      "display_name": "Python 3"
    },
    "language_info": {
      "name": "python"
    }
  },
  "cells": [
    {
      "cell_type": "markdown",
      "metadata": {
        "id": "view-in-github",
        "colab_type": "text"
      },
      "source": [
        "<a href=\"https://colab.research.google.com/github/Ni-cole17/Raizes-Complexas/blob/main/regioesdecomplexos.ipynb\" target=\"_parent\"><img src=\"https://colab.research.google.com/assets/colab-badge.svg\" alt=\"Open In Colab\"/></a>"
      ]
    },
    {
      "cell_type": "code",
      "metadata": {
        "colab": {
          "base_uri": "https://localhost:8080/"
        },
        "id": "1vgxLxtVT_XM",
        "outputId": "49b21917-b5d7-4588-b9f2-8f4ffc31b451"
      },
      "source": [
        "z = input(\"Digite a região do tipo: z-zo<x (pode ser utilizado os sinais '<','>','<=','>='): \")\n"
      ],
      "execution_count": 11,
      "outputs": [
        {
          "name": "stdout",
          "output_type": "stream",
          "text": [
            "Digite a região do tipo: z-zo<x (pode ser utilizado os sinais '<','>','<=','>='): z<9\n"
          ]
        }
      ]
    },
    {
      "cell_type": "code",
      "metadata": {
        "colab": {
          "base_uri": "https://localhost:8080/",
          "height": 35
        },
        "id": "k0YQy5ALUqBt",
        "outputId": "0a9b8df0-d433-476f-f34b-37168d46329d"
      },
      "source": [
        "#Identificar qual operador foi escolhido\n",
        "operadores = [\"<\",\">\",\"=\"]\n",
        "operador = \"\"\n",
        "for i in operadores:\n",
        "  if i in z:\n",
        "    operador = operador + i\n",
        "operador"
      ],
      "execution_count": 12,
      "outputs": [
        {
          "output_type": "execute_result",
          "data": {
            "application/vnd.google.colaboratory.intrinsic+json": {
              "type": "string"
            },
            "text/plain": [
              "'<'"
            ]
          },
          "metadata": {},
          "execution_count": 12
        }
      ]
    },
    {
      "cell_type": "code",
      "metadata": {
        "colab": {
          "base_uri": "https://localhost:8080/"
        },
        "id": "oiJDp_xjyteY",
        "outputId": "e99e8326-648f-442c-bf3a-f698349482fd"
      },
      "source": [
        "#processo para separar a string e extrair os valores de z0 e x\n",
        "separacao = z.split(operador)\n",
        "separacao"
      ],
      "execution_count": 13,
      "outputs": [
        {
          "output_type": "execute_result",
          "data": {
            "text/plain": [
              "['z', '9']"
            ]
          },
          "metadata": {},
          "execution_count": 13
        }
      ]
    },
    {
      "cell_type": "code",
      "metadata": {
        "colab": {
          "base_uri": "https://localhost:8080/",
          "height": 35
        },
        "id": "vfseCo8RRvDg",
        "outputId": "5ad9ce62-5026-4096-8d02-3f63c3eb6ac7"
      },
      "source": [
        "if separacao[0] != 'z':\n",
        "  operadores_math = ['+','-']\n",
        "  oper_math = ''\n",
        "  for i in operadores_math:\n",
        "    if i in separacao[0]:\n",
        "      oper_math=i\n",
        "else:\n",
        "  oper_math = ''\n",
        "oper_math"
      ],
      "execution_count": 14,
      "outputs": [
        {
          "output_type": "execute_result",
          "data": {
            "application/vnd.google.colaboratory.intrinsic+json": {
              "type": "string"
            },
            "text/plain": [
              "''"
            ]
          },
          "metadata": {},
          "execution_count": 14
        }
      ]
    },
    {
      "cell_type": "code",
      "metadata": {
        "colab": {
          "base_uri": "https://localhost:8080/"
        },
        "id": "FEKoKUmk0H5a",
        "outputId": "1ffef6eb-a81e-49ef-f3d9-03b7cef2a88b"
      },
      "source": [
        "print(separacao[0])\n",
        "\n",
        "if separacao[0] != 'z':\n",
        "  separador = 'z'+oper_math\n",
        "  anterior = separacao[0].split(separador)\n",
        "else:\n",
        "  anterior = [separacao[0]]\n",
        "anterior"
      ],
      "execution_count": 15,
      "outputs": [
        {
          "output_type": "stream",
          "name": "stdout",
          "text": [
            "z\n"
          ]
        },
        {
          "output_type": "execute_result",
          "data": {
            "text/plain": [
              "['z']"
            ]
          },
          "metadata": {},
          "execution_count": 15
        }
      ]
    },
    {
      "cell_type": "code",
      "metadata": {
        "colab": {
          "base_uri": "https://localhost:8080/"
        },
        "id": "iEQI5bPJ_YiE",
        "outputId": "a0556725-c5ab-4fbf-b466-d735645f918e"
      },
      "source": [
        "if anterior[0] == 'z':\n",
        "  anterior.append('0')\n",
        "anterior"
      ],
      "execution_count": 16,
      "outputs": [
        {
          "output_type": "execute_result",
          "data": {
            "text/plain": [
              "['z', '0']"
            ]
          },
          "metadata": {},
          "execution_count": 16
        }
      ]
    },
    {
      "cell_type": "code",
      "metadata": {
        "colab": {
          "base_uri": "https://localhost:8080/"
        },
        "id": "PuMzjDDlzOR8",
        "outputId": "40054f5a-8223-4b44-f46f-edd90d795fa8"
      },
      "source": [
        "z0 = complex(anterior[1])\n",
        "raio = float(separacao[1])\n",
        "print(z0,raio)"
      ],
      "execution_count": 17,
      "outputs": [
        {
          "output_type": "stream",
          "name": "stdout",
          "text": [
            "0j 9.0\n"
          ]
        }
      ]
    },
    {
      "cell_type": "code",
      "metadata": {
        "colab": {
          "base_uri": "https://localhost:8080/"
        },
        "id": "o327vEogz7Wq",
        "outputId": "3b019ec3-8a13-4583-bed2-71389eaae1e6"
      },
      "source": [
        "#Considerando z0 como um complexo\n",
        "if oper_math =='-':\n",
        "  x = z0.real\n",
        "  y = z0.imag\n",
        "else:\n",
        "  x = -z0.real\n",
        "  y = z0.imag\n",
        "print(x,y)"
      ],
      "execution_count": 18,
      "outputs": [
        {
          "output_type": "stream",
          "name": "stdout",
          "text": [
            "-0.0 0.0\n"
          ]
        }
      ]
    },
    {
      "cell_type": "code",
      "metadata": {
        "id": "fh6NpfJrp8GO"
      },
      "source": [
        "#determinar como vão ser preenchidas as regiões\n",
        "cor_fora = 'white'\n",
        "if operador == '<':\n",
        "  prenc = '///'\n",
        "  line = '--'\n",
        "elif operador == '<=':\n",
        "  prenc = '///'\n",
        "  line = '-'\n",
        "elif operador == '>':\n",
        "  prenc = None\n",
        "  line = '--'\n",
        "  cor_fora = 'red'\n",
        "elif operador == '>=':\n",
        "  prenc = None\n",
        "  line = '-'\n",
        "  cor_fora = 'red'"
      ],
      "execution_count": 19,
      "outputs": []
    },
    {
      "cell_type": "code",
      "metadata": {
        "colab": {
          "base_uri": "https://localhost:8080/",
          "height": 281
        },
        "id": "IAYC8zcRWuAK",
        "outputId": "a872c3f8-9f93-40dd-8872-a3bd51986429"
      },
      "source": [
        "import matplotlib.pyplot as plt\n",
        "import matplotlib.lines as lines\n",
        "# Plotagem da região e de outros componentes\n",
        "figure, axes = plt.subplots()\n",
        "draw_circle = plt.Circle((x, y),raio ,linestyle=line,linewidth=raio/2,edgecolor='red',hatch=prenc,facecolor='white',zorder=10,in_layout=False)\n",
        "lim = raio+abs(x)+5\n",
        "\n",
        "\n",
        "plt.fill_between([-lim,lim],lim , hatch='/', edgecolor=cor_fora,facecolor='white')\n",
        "plt.fill_between([-lim,lim],-lim, hatch=\"/\", edgecolor=cor_fora,facecolor='white')\n",
        "\n",
        "axes.add_artist(lines.Line2D([0,0],[-lim,lim],color=\"#000000\",zorder=11))\n",
        "axes.add_artist(lines.Line2D([lim,-lim],[0,0],color=\"#000000\",zorder=11))\n",
        "\n",
        "\n",
        "plt.xlim(-lim,lim)\n",
        "plt.ylim(-lim,lim)\n",
        "\n",
        "plt.scatter(x,y,s=2*raio,c='red',zorder=11)\n",
        "\n",
        "axes.set_aspect(1)\n",
        "axes.add_artist(draw_circle)\n",
        "plt.title('Im')\n",
        "axes.set_ylabel('Re')\n",
        "\n",
        "plt.show()"
      ],
      "execution_count": 20,
      "outputs": [
        {
          "output_type": "display_data",
          "data": {
            "image/png": "[encoded data removed]",
            "text/plain": [
              "<Figure size 432x288 with 1 Axes>"
            ]
          },
          "metadata": {
            "needs_background": "light"
          }
        }
      ]
    }
  ]
}