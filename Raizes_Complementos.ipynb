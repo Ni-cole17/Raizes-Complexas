{
  "nbformat": 4,
  "nbformat_minor": 0,
  "metadata": {
    "colab": {
      "name": "Raizes-Complementos.ipynb",
      "provenance": [],
      "authorship_tag": "ABX9TyO4/7Upd4tD1zqH2eYOizXO",
      "include_colab_link": true
    },
    "kernelspec": {
      "name": "python3",
      "display_name": "Python 3"
    },
    "language_info": {
      "name": "python"
    }
  },
  "cells": [
    {
      "cell_type": "markdown",
      "metadata": {
        "id": "view-in-github",
        "colab_type": "text"
      },
      "source": [
        "<a href=\"https://colab.research.google.com/github/Ni-cole17/Raizes-Complexas/blob/main/Raizes_Complementos.ipynb\" target=\"_parent\"><img src=\"https://colab.research.google.com/assets/colab-badge.svg\" alt=\"Open In Colab\"/></a>"
      ]
    },
    {
      "cell_type": "code",
      "metadata": {
        "id": "DpntyvBsrIYl",
        "colab": {
          "base_uri": "https://localhost:8080/"
        },
        "outputId": "9daeb264-d04f-40fc-e58d-a0f2aca2fd31"
      },
      "source": [
        "z = complex(input(\"Digite o número complexo Z: (utilize j para a parte imaginária): \"))"
      ],
      "execution_count": 1,
      "outputs": [
        {
          "name": "stdout",
          "output_type": "stream",
          "text": [
            "Digite o número complexo Z: (utilize j para a parte imaginária): 1+j\n"
          ]
        }
      ]
    },
    {
      "cell_type": "code",
      "metadata": {
        "colab": {
          "base_uri": "https://localhost:8080/"
        },
        "id": "IjijehbkrZ3N",
        "outputId": "fe140e12-0299-41fd-ad3a-07c9cd9c1ea1"
      },
      "source": [
        "quantidade_raizes= int(input(\"Quantas raízes você deseja? \"))"
      ],
      "execution_count": 3,
      "outputs": [
        {
          "name": "stdout",
          "output_type": "stream",
          "text": [
            "Quantas raízes você deseja? 9\n"
          ]
        }
      ]
    },
    {
      "cell_type": "markdown",
      "metadata": {
        "id": "zsF4C_7k6MRm"
      },
      "source": [
        "Esse código foi desenvolvido baseado na fórmula abaixo, logo, nas próximas células serão exploradas cada uma das suas variáveis.\n"
      ]
    },
    {
      "cell_type": "markdown",
      "metadata": {
        "id": "z9WsqNSw5dFn"
      },
      "source": [
        "![raizescompelxo.png](data:image/png;base64,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)\n",
        "\n",
        "\n",
        "\n"
      ]
    },
    {
      "cell_type": "code",
      "metadata": {
        "colab": {
          "base_uri": "https://localhost:8080/"
        },
        "id": "lC8kfSwntDS5",
        "outputId": "45e6e4ad-49cd-4b6a-c484-20245b759f96"
      },
      "source": [
        "print(z.real,z.imag)"
      ],
      "execution_count": 4,
      "outputs": [
        {
          "output_type": "stream",
          "name": "stdout",
          "text": [
            "1.0 1.0\n"
          ]
        }
      ]
    },
    {
      "cell_type": "code",
      "metadata": {
        "id": "vPzTSFSjrn1c",
        "colab": {
          "base_uri": "https://localhost:8080/"
        },
        "outputId": "6c94cabc-dcf3-4b4e-8006-c77c031b86a5"
      },
      "source": [
        "#Calcula o passo\n",
        "import math\n",
        "passo = 2*math.pi/quantidade_raizes\n",
        "passo"
      ],
      "execution_count": 5,
      "outputs": [
        {
          "output_type": "execute_result",
          "data": {
            "text/plain": [
              "0.6981317007977318"
            ]
          },
          "metadata": {},
          "execution_count": 5
        }
      ]
    },
    {
      "cell_type": "code",
      "metadata": {
        "colab": {
          "base_uri": "https://localhost:8080/"
        },
        "id": "JgEc_FkRNooo",
        "outputId": "b981a9af-a196-4d83-f600-b5640d68f9ab"
      },
      "source": [
        "#Calcula o raio elevado a raiz quadrada de n\n",
        "r0 = math.sqrt(math.pow(z.real,2)+math.pow(z.imag,2))\n",
        "r=math.pow(r0,1/quantidade_raizes)\n",
        "tamanho_eixo = 2*r\n",
        "r"
      ],
      "execution_count": 6,
      "outputs": [
        {
          "output_type": "execute_result",
          "data": {
            "text/plain": [
              "1.0392592260318434"
            ]
          },
          "metadata": {},
          "execution_count": 6
        }
      ]
    },
    {
      "cell_type": "code",
      "metadata": {
        "id": "fyR0kZ0nO03S"
      },
      "source": [
        "#cálculo do angulo\n",
        "if z.real <0 and z.imag < 0:\n",
        "  quadrante = 3\n",
        "  angle_0 = -math.pi + math.atan(z.imag/z.real) \n",
        "elif z.real > 0 and z.imag < 0:\n",
        "  quadrante = 4\n",
        "  angle_0 = math.atan(z.imag/z.real)\n",
        "elif z.real > 0 and z.imag > 0:\n",
        "  quadrante = 1\n",
        "  angle_0 = math.atan(z.imag/z.real)\n",
        "elif z.real < 0 and z.imag >0:\n",
        "  quadrante = 2\n",
        "  angle_0 = math.pi + math.atan(z.imag/z.real)\n",
        "else:\n",
        "  quadrante = 0\n",
        "  if z.imag == 0 and z.real > 0:\n",
        "    angle_0 = 0\n",
        "  elif z.imag == 0 and z.real < 0:\n",
        "    angle_0 = math.pi\n",
        "  elif z.imag < 0  and z.real ==0:\n",
        "    angle_0 = -math.pi/2\n",
        "  elif z.imag > 0 and z.real ==0:\n",
        "    angle_0 = math.pi/2"
      ],
      "execution_count": 7,
      "outputs": []
    },
    {
      "cell_type": "code",
      "metadata": {
        "colab": {
          "base_uri": "https://localhost:8080/"
        },
        "id": "vEm9BAkuVHQ4",
        "outputId": "f73c9826-c930-48ec-afa5-15f3f03a07a2"
      },
      "source": [
        "angle = angle_0/quantidade_raizes\n",
        "angle"
      ],
      "execution_count": 8,
      "outputs": [
        {
          "output_type": "execute_result",
          "data": {
            "text/plain": [
              "0.08726646259971647"
            ]
          },
          "metadata": {},
          "execution_count": 8
        }
      ]
    },
    {
      "cell_type": "code",
      "metadata": {
        "colab": {
          "base_uri": "https://localhost:8080/"
        },
        "id": "jEe68h8cXkKw",
        "outputId": "3b12f84f-508a-484e-e119-780f6d305109"
      },
      "source": [
        "#para angulo em graus\n",
        "angulo_graus_0=angle/math.pi\n",
        "angulo_graus=angulo_graus_0*180\n",
        "passo_grau_0 = passo/math.pi\n",
        "passo_grau = passo_grau_0*180\n",
        "print(angulo_graus)\n",
        "print(passo_grau)\n"
      ],
      "execution_count": 9,
      "outputs": [
        {
          "output_type": "stream",
          "name": "stdout",
          "text": [
            "5.0\n",
            "40.0\n"
          ]
        }
      ]
    },
    {
      "cell_type": "code",
      "metadata": {
        "colab": {
          "base_uri": "https://localhost:8080/"
        },
        "id": "N1xe8S37kzMm",
        "outputId": "7c8aec61-2e67-4abd-969c-482f28861c2c"
      },
      "source": [
        "#Ajuste visual\n",
        "A = 1\n",
        "valor = True\n",
        "numero = r\n",
        "while valor == True:\n",
        "  if numero <= 10:\n",
        "    valor = False\n",
        "  else:\n",
        "    numero = numero/10\n",
        "    A = A*10\n",
        "A"
      ],
      "execution_count": 10,
      "outputs": [
        {
          "output_type": "execute_result",
          "data": {
            "text/plain": [
              "1"
            ]
          },
          "metadata": {},
          "execution_count": 10
        }
      ]
    },
    {
      "cell_type": "code",
      "metadata": {
        "colab": {
          "base_uri": "https://localhost:8080/",
          "height": 451
        },
        "id": "KCDMvBwftIX8",
        "outputId": "b7d50907-7b5e-4761-c31e-da134007fdd9"
      },
      "source": [
        "import matplotlib.pyplot as plt\n",
        "import matplotlib.lines as lines\n",
        "\n",
        "figure, axes = plt.subplots()\n",
        "draw_circle = plt.Circle((0, 0), r,fill=False)\n",
        "\n",
        "axes.set_aspect(1)\n",
        "axes.add_artist(draw_circle)\n",
        "plt.title('Im')\n",
        "\n",
        "passo_linha = int(A)\n",
        "\n",
        "axes.add_artist(lines.Line2D([0,0],[-1.5*passo_linha*r,1.5*passo_linha*r],color=\"#000000\"))\n",
        "axes.add_artist(lines.Line2D([1.5*passo_linha*r,-1.5*passo_linha*r],[0,0],color=\"#000000\"))\n",
        "\n",
        "raizes = []\n",
        "angulos = []\n",
        "angle2 = angle\n",
        "angulo_graus2 = angulo_graus\n",
        "\n",
        "inferior = int(A)\n",
        "superior = int(r+passo_linha)\n",
        "\n",
        "for i in range(quantidade_raizes):\n",
        "  plt.scatter(r*math.cos(angle2),r*math.sin(angle2),color=\"#990000\")\n",
        "  raizes.append([r*math.cos(angle2),r*math.sin(angle2)])\n",
        "  angulos.append(angulo_graus2)\n",
        "  angulo_graus2 = angulo_graus2 + passo_grau\n",
        "  angle2 = angle2 + passo\n",
        "poligono = [[0, 0]]\n",
        "poligono = plt.Polygon(raizes,fill=False)\n",
        "axes.add_patch(poligono)\n",
        "axes.set_ylabel('Re')\n",
        "\n",
        "\n",
        "if passo_linha != 1:\n",
        "  for i in range(inferior,superior,passo_linha):\n",
        "    plt.plot([i],\"_\",color=\"#000000\")\n",
        "    plt.plot(i,0,\"|\",color=\"#000000\")\n",
        "  for i in range(-1*inferior,-1*superior,-1*passo_linha):\n",
        "    plt.plot([i],\"_\",color=\"#000000\")\n",
        "    plt.plot(i,0,\"|\",color=\"#000000\")\n",
        "else:\n",
        "  inferior = 25\n",
        "  passo_linha = 25\n",
        "  superior = int(r*100+25)\n",
        "  for i in range(inferior,superior,passo_linha):\n",
        "    plt.plot([i/100],\"_\",color=\"#000000\")\n",
        "    plt.plot(i/100,0,\"|\",color=\"#000000\")\n",
        "  for i in range(-1*inferior,-1*superior,-1*passo_linha):\n",
        "    plt.plot([i/100],\"_\",color=\"#000000\")\n",
        "    plt.plot(i/100,0,\"|\",color=\"#000000\")\n",
        "\n",
        "plt.show()\n",
        "print(\"Raízes:\")\n",
        "j=0\n",
        "raiz_principal = 0\n",
        "for i in raizes:\n",
        "  if i[0]>=0 and i[1]>=0 and raiz_principal == 0:\n",
        "    print(\"C(%d):\"%j,\" \", end=\"\")\n",
        "    print(complex(round(i[0],2),round(i[1],2)), end=\"\")\n",
        "    print(\" (Raiz principal)\",5*\" \",\"Angulo: %.2f°\"%angulos[j])\n",
        "    raiz_principal = 1\n",
        "  else:\n",
        "    print(\"C(%d):\"%j,\" \", end=\"\")\n",
        "    print(complex(round(i[0],2),round(i[1],2)),21*\" \",\"Angulo: %.2f°\"%angulos[j])\n",
        "  j = j + 1"
      ],
      "execution_count": 11,
      "outputs": [
        {
          "output_type": "display_data",
          "data": {
            "image/png": "[encoded data removed]",
            "text/plain": [
              "<Figure size 432x288 with 1 Axes>"
            ]
          },
          "metadata": {
            "needs_background": "light"
          }
        },
        {
          "output_type": "stream",
          "name": "stdout",
          "text": [
            "Raízes:\n",
            "C(0):  (1.04+0.09j) (Raiz principal)       Angulo: 5.00°\n",
            "C(1):  (0.73+0.73j)                       Angulo: 45.00°\n",
            "C(2):  (0.09+1.04j)                       Angulo: 85.00°\n",
            "C(3):  (-0.6+0.85j)                       Angulo: 125.00°\n",
            "C(4):  (-1+0.27j)                       Angulo: 165.00°\n",
            "C(5):  (-0.94-0.44j)                       Angulo: 205.00°\n",
            "C(6):  (-0.44-0.94j)                       Angulo: 245.00°\n",
            "C(7):  (0.27-1j)                       Angulo: 285.00°\n",
            "C(8):  (0.85-0.6j)                       Angulo: 325.00°\n"
          ]
        }
      ]
    }
  ]
}